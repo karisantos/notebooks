{
  "nbformat": 4,
  "nbformat_minor": 0,
  "metadata": {
    "kernelspec": {
      "display_name": "Python 3",
      "language": "python",
      "name": "python3"
    },
    "language_info": {
      "codemirror_mode": {
        "name": "ipython",
        "version": 3
      },
      "file_extension": ".py",
      "mimetype": "text/x-python",
      "name": "python",
      "nbconvert_exporter": "python",
      "pygments_lexer": "ipython3",
      "version": "3.7.4"
    },
    "colab": {
      "name": "Copy of 0-starting-to-code.ipynb",
      "provenance": [],
      "toc_visible": true
    }
  },
  "cells": [
    {
      "cell_type": "markdown",
      "metadata": {
        "id": "rNY3kj-VR5Ad",
        "colab_type": "text"
      },
      "source": [
        "# Welcome "
      ]
    },
    {
      "cell_type": "code",
      "metadata": {
        "id": "N1_cPg4xTN27",
        "colab_type": "code",
        "colab": {}
      },
      "source": [
        ""
      ],
      "execution_count": 0,
      "outputs": []
    },
    {
      "cell_type": "markdown",
      "metadata": {
        "id": "CcQJ03M0TOYC",
        "colab_type": "text"
      },
      "source": [
        ""
      ]
    },
    {
      "cell_type": "markdown",
      "metadata": {
        "id": "lY7Ug4mGR5Ae",
        "colab_type": "text"
      },
      "source": [
        "<img src=\"https://storage.googleapis.com/curriculum-assets/curriculum-assets.nosync/intro-to-coding/wave-giphy.gif\" width=\"50%\">"
      ]
    },
    {
      "cell_type": "markdown",
      "metadata": {
        "id": "w_l9PJwjR5Ah",
        "colab_type": "text"
      },
      "source": [
        "> Don't see the picture above?  Click `Sign In` on the top right to sign in with Google."
      ]
    },
    {
      "cell_type": "markdown",
      "metadata": {
        "id": "0j6ZZu3dR5Ak",
        "colab_type": "text"
      },
      "source": [
        "## We have some questions"
      ]
    },
    {
      "cell_type": "markdown",
      "metadata": {
        "id": "vq3FbOSQR5Am",
        "colab_type": "text"
      },
      "source": [
        "Let's start with the first two questions everyone has when learning to code.\n",
        "\n",
        "**1. Can I do it?**\n",
        "\n",
        "**2. Is it even worth it?**"
      ]
    },
    {
      "cell_type": "markdown",
      "metadata": {
        "id": "ueO5wTBjR5An",
        "colab_type": "text"
      },
      "source": [
        "### Can you do it?"
      ]
    },
    {
      "cell_type": "markdown",
      "metadata": {
        "id": "x42usu0OR5Ap",
        "colab_type": "text"
      },
      "source": [
        "Yes.  Coding isn't so bad.  Some may even say it's fun."
      ]
    },
    {
      "cell_type": "markdown",
      "metadata": {
        "id": "y6vcnS1cR5Au",
        "colab_type": "text"
      },
      "source": [
        "See the gray cell below?  There are two ways we can execute the code.\n",
        "\n",
        "The first way is by clicking the gray `play` button that you see if you hover over the square brackets in the  leftside of the cell.\n",
        "\n",
        "This is the second.  Click inside of the gray box below.  Then hold down the `shift` key with your left hand, and `press return` with the other hand **while still holding down that shift key**."
      ]
    },
    {
      "cell_type": "markdown",
      "metadata": {
        "id": "1aVdfcrxR5Aw",
        "colab_type": "text"
      },
      "source": [
        "> **Note:** You will get a **warning** from Google, the first time you execute a cell of code.  Click **Run Anyway**."
      ]
    },
    {
      "cell_type": "code",
      "metadata": {
        "id": "-8pC7pRoR5Ax",
        "colab_type": "code",
        "outputId": "e1371878-cf22-44cf-fa59-9e8051eedda8",
        "colab": {
          "base_uri": "https://localhost:8080/",
          "height": 34
        }
      },
      "source": [
        "3 + 10"
      ],
      "execution_count": 0,
      "outputs": [
        {
          "output_type": "execute_result",
          "data": {
            "text/plain": [
              "13"
            ]
          },
          "metadata": {
            "tags": []
          },
          "execution_count": 1
        }
      ]
    },
    {
      "cell_type": "markdown",
      "metadata": {
        "id": "2svFithBR5A5",
        "colab_type": "text"
      },
      "source": [
        "> Click on the cell above, and then press `shift + return`."
      ]
    },
    {
      "cell_type": "markdown",
      "metadata": {
        "id": "ABk5yv0MR5A7",
        "colab_type": "text"
      },
      "source": [
        "You can also watch the video below, to see how a pro does it."
      ]
    },
    {
      "cell_type": "markdown",
      "metadata": {
        "id": "6jEUhTwqR5A8",
        "colab_type": "text"
      },
      "source": [
        "<img src=\"https://github.com/jigsawlabs/curriculum-assets/blob/master/introduction-to-apis/7-just-a-bit-of-python/jupyter-python.gif?raw=true\" width=\"40%\">"
      ]
    },
    {
      "cell_type": "markdown",
      "metadata": {
        "id": "0fz9BnUBR5A-",
        "colab_type": "text"
      },
      "source": [
        "**Ok, now let's do something a bit more interesting.**"
      ]
    },
    {
      "cell_type": "markdown",
      "metadata": {
        "id": "_N_-48vwR5A_",
        "colab_type": "text"
      },
      "source": [
        "Let's say that we are in the music business, and we we want to see where people travel to after a music concert.  Learning this could tell us more about our audience, like where they live, or like to hang out.  We decide to look at New York City's taxi trip data, which is available <a href=\"https://data.cityofnewyork.us/resource/biws-g3hs.json?pulocationid=186\" target=\"_blank\"> here</a>, and specify taxi trips near Madison Square Garden with the [`pulocationid` (pickup location id)](https://data.cityofnewyork.us/Transportation/NYC-Taxi-Zones/d3c5-ddgc)."
      ]
    },
    {
      "cell_type": "markdown",
      "metadata": {
        "id": "JyyQpzaiR5BA",
        "colab_type": "text"
      },
      "source": [
        "But it helps to know a bit of programming to more easily explore it."
      ]
    },
    {
      "cell_type": "markdown",
      "metadata": {
        "id": "tQppcjSHR5BB",
        "colab_type": "text"
      },
      "source": [
        "> Press `shift + return` on the cell below to collect this data."
      ]
    },
    {
      "cell_type": "code",
      "metadata": {
        "id": "htzxa3znR5BD",
        "colab_type": "code",
        "outputId": "a7e18e71-2d0a-4239-e121-def5929de7d5",
        "colab": {
          "base_uri": "https://localhost:8080/",
          "height": 132
        }
      },
      "source": [
        "import pandas as pd\n",
        "url = \"https://data.cityofnewyork.us/resource/biws-g3hs.json?pulocationid=186\"\n",
        "df = pd.read_json(url)\n",
        "df[:2]"
      ],
      "execution_count": 0,
      "outputs": [
        {
          "output_type": "execute_result",
          "data": {
            "text/html": [
              "<div>\n",
              "<style scoped>\n",
              "    .dataframe tbody tr th:only-of-type {\n",
              "        vertical-align: middle;\n",
              "    }\n",
              "\n",
              "    .dataframe tbody tr th {\n",
              "        vertical-align: top;\n",
              "    }\n",
              "\n",
              "    .dataframe thead th {\n",
              "        text-align: right;\n",
              "    }\n",
              "</style>\n",
              "<table border=\"1\" class=\"dataframe\">\n",
              "  <thead>\n",
              "    <tr style=\"text-align: right;\">\n",
              "      <th></th>\n",
              "      <th>vendorid</th>\n",
              "      <th>tpep_pickup_datetime</th>\n",
              "      <th>tpep_dropoff_datetime</th>\n",
              "      <th>passenger_count</th>\n",
              "      <th>trip_distance</th>\n",
              "      <th>ratecodeid</th>\n",
              "      <th>store_and_fwd_flag</th>\n",
              "      <th>pulocationid</th>\n",
              "      <th>dolocationid</th>\n",
              "      <th>payment_type</th>\n",
              "      <th>fare_amount</th>\n",
              "      <th>extra</th>\n",
              "      <th>mta_tax</th>\n",
              "      <th>tip_amount</th>\n",
              "      <th>tolls_amount</th>\n",
              "      <th>improvement_surcharge</th>\n",
              "      <th>total_amount</th>\n",
              "    </tr>\n",
              "  </thead>\n",
              "  <tbody>\n",
              "    <tr>\n",
              "      <th>0</th>\n",
              "      <td>1</td>\n",
              "      <td>2017-01-09T11:32:27.000</td>\n",
              "      <td>2017-01-09T11:36:01.000</td>\n",
              "      <td>1</td>\n",
              "      <td>0.90</td>\n",
              "      <td>1</td>\n",
              "      <td>N</td>\n",
              "      <td>186</td>\n",
              "      <td>234</td>\n",
              "      <td>1</td>\n",
              "      <td>5.0</td>\n",
              "      <td>0.0</td>\n",
              "      <td>0.5</td>\n",
              "      <td>1.45</td>\n",
              "      <td>0.0</td>\n",
              "      <td>0.3</td>\n",
              "      <td>7.25</td>\n",
              "    </tr>\n",
              "    <tr>\n",
              "      <th>1</th>\n",
              "      <td>2</td>\n",
              "      <td>2017-01-01T00:00:02.000</td>\n",
              "      <td>2017-01-01T00:39:22.000</td>\n",
              "      <td>4</td>\n",
              "      <td>7.75</td>\n",
              "      <td>1</td>\n",
              "      <td>N</td>\n",
              "      <td>186</td>\n",
              "      <td>36</td>\n",
              "      <td>1</td>\n",
              "      <td>22.0</td>\n",
              "      <td>0.5</td>\n",
              "      <td>0.5</td>\n",
              "      <td>4.66</td>\n",
              "      <td>0.0</td>\n",
              "      <td>0.3</td>\n",
              "      <td>27.96</td>\n",
              "    </tr>\n",
              "  </tbody>\n",
              "</table>\n",
              "</div>"
            ],
            "text/plain": [
              "   vendorid     tpep_pickup_datetime  ... improvement_surcharge  total_amount\n",
              "0         1  2017-01-09T11:32:27.000  ...                   0.3          7.25\n",
              "1         2  2017-01-01T00:00:02.000  ...                   0.3         27.96\n",
              "\n",
              "[2 rows x 17 columns]"
            ]
          },
          "metadata": {
            "tags": []
          },
          "execution_count": 2
        }
      ]
    },
    {
      "cell_type": "markdown",
      "metadata": {
        "id": "yNj1LHWiR5BJ",
        "colab_type": "text"
      },
      "source": [
        "> We just selected two of the trips near Madison Square Garden.  \n",
        "> But we could view more trips by changing the number in `df[:2]` to something larger (and then `shift + return`) again.  "
      ]
    },
    {
      "cell_type": "markdown",
      "metadata": {
        "id": "Qn_m9C5QR5BK",
        "colab_type": "text"
      },
      "source": [
        "Or let's say we wanted to get a sense of trends in the tech industry in San Francisco.  Well we can see the jobs posted on a popular website here.\n",
        "\n",
        "> Press `shift + return` on the cell below."
      ]
    },
    {
      "cell_type": "code",
      "metadata": {
        "id": "w6dZe5lnR5BM",
        "colab_type": "code",
        "outputId": "1f4151d7-e65c-4abb-a21a-ab5d89fcaf01",
        "colab": {
          "base_uri": "https://localhost:8080/",
          "height": 236
        }
      },
      "source": [
        "import pandas as pd\n",
        "url = \"https://jobs.github.com/positions.json?&location=san+francisco\"\n",
        "df = pd.read_json(url)\n",
        "df[:2]"
      ],
      "execution_count": 0,
      "outputs": [
        {
          "output_type": "execute_result",
          "data": {
            "text/html": [
              "<div>\n",
              "<style scoped>\n",
              "    .dataframe tbody tr th:only-of-type {\n",
              "        vertical-align: middle;\n",
              "    }\n",
              "\n",
              "    .dataframe tbody tr th {\n",
              "        vertical-align: top;\n",
              "    }\n",
              "\n",
              "    .dataframe thead th {\n",
              "        text-align: right;\n",
              "    }\n",
              "</style>\n",
              "<table border=\"1\" class=\"dataframe\">\n",
              "  <thead>\n",
              "    <tr style=\"text-align: right;\">\n",
              "      <th></th>\n",
              "      <th>id</th>\n",
              "      <th>type</th>\n",
              "      <th>url</th>\n",
              "      <th>created_at</th>\n",
              "      <th>company</th>\n",
              "      <th>company_url</th>\n",
              "      <th>location</th>\n",
              "      <th>title</th>\n",
              "      <th>description</th>\n",
              "      <th>how_to_apply</th>\n",
              "      <th>company_logo</th>\n",
              "    </tr>\n",
              "  </thead>\n",
              "  <tbody>\n",
              "    <tr>\n",
              "      <th>0</th>\n",
              "      <td>2bf5712a-e196-46af-9b47-e70d83c66c2f</td>\n",
              "      <td>Full Time</td>\n",
              "      <td>https://jobs.github.com/positions/2bf5712a-e19...</td>\n",
              "      <td>2020-03-12 15:52:38+00:00</td>\n",
              "      <td>Seven.me</td>\n",
              "      <td>https://seven.me</td>\n",
              "      <td>Oakland, CA</td>\n",
              "      <td>Mobile Engineer</td>\n",
              "      <td>&lt;h1&gt;About the role&lt;/h1&gt;\\n&lt;h2&gt;What we do&lt;/h2&gt;\\n...</td>\n",
              "      <td>&lt;p&gt;&lt;a href=\"https://seven-me.homerun.co/mobile...</td>\n",
              "      <td>https://jobs.github.com/rails/active_storage/b...</td>\n",
              "    </tr>\n",
              "    <tr>\n",
              "      <th>1</th>\n",
              "      <td>d9d34231-dd75-4239-8a2b-cf78b20a2ff9</td>\n",
              "      <td>Full Time</td>\n",
              "      <td>https://jobs.github.com/positions/d9d34231-dd7...</td>\n",
              "      <td>2020-03-03 17:44:42+00:00</td>\n",
              "      <td>University of California Berkeley</td>\n",
              "      <td>https://www.berkeley.edu</td>\n",
              "      <td>Berkeley, CA</td>\n",
              "      <td>Digital Project Archivist</td>\n",
              "      <td>&lt;p&gt;Recruitment Period&lt;/p&gt;\\n&lt;p&gt;Open date: Febru...</td>\n",
              "      <td>&lt;p&gt;Submit applications online at: &lt;a href=\"htt...</td>\n",
              "      <td>https://jobs.github.com/rails/active_storage/b...</td>\n",
              "    </tr>\n",
              "  </tbody>\n",
              "</table>\n",
              "</div>"
            ],
            "text/plain": [
              "                                     id  ...                                       company_logo\n",
              "0  2bf5712a-e196-46af-9b47-e70d83c66c2f  ...  https://jobs.github.com/rails/active_storage/b...\n",
              "1  d9d34231-dd75-4239-8a2b-cf78b20a2ff9  ...  https://jobs.github.com/rails/active_storage/b...\n",
              "\n",
              "[2 rows x 11 columns]"
            ]
          },
          "metadata": {
            "tags": []
          },
          "execution_count": 3
        }
      ]
    },
    {
      "cell_type": "markdown",
      "metadata": {
        "id": "zQgoIpZoR5BT",
        "colab_type": "text"
      },
      "source": [
        "If you look our the two blocks of code above you can see that they are quite similar.  And you may even be able to get a sense of what the code is doing.  \n",
        "> But of course, we'll later walk through each line of code to really understand them.  \n",
        "\n",
        "The point is this:"
      ]
    },
    {
      "cell_type": "markdown",
      "metadata": {
        "id": "M9Cjyhu1R5BU",
        "colab_type": "text"
      },
      "source": [
        "**Yes**, you can do it."
      ]
    },
    {
      "cell_type": "markdown",
      "metadata": {
        "id": "uu_YWFxsR5BV",
        "colab_type": "text"
      },
      "source": [
        "## But is coding worth it?"
      ]
    },
    {
      "cell_type": "markdown",
      "metadata": {
        "id": "jcg07bNoR5BY",
        "colab_type": "text"
      },
      "source": [
        "Here's my story.  I started coding while working in a market research role.  One of my coworkers knew a bit of coding, and I saw that it was easier for him to both **find information**, and also to **take action** with this information.  That's what motivated me to code -- it was only afterwards that I fell in love with it. "
      ]
    },
    {
      "cell_type": "markdown",
      "metadata": {
        "id": "z5kyEuSkR5BZ",
        "colab_type": "text"
      },
      "source": [
        "That is what we'll learn over these next lessons -- how coding can help us find information and take action.  But more importantly, we'll learn the coding *fundamentals* to develop our skills afterwards. "
      ]
    },
    {
      "cell_type": "markdown",
      "metadata": {
        "id": "wJ6tqbJzR5Ba",
        "colab_type": "text"
      },
      "source": [
        "Steve Jobs offers another reason for learning to code:"
      ]
    },
    {
      "cell_type": "markdown",
      "metadata": {
        "id": "lJvN7lnhR5Bb",
        "colab_type": "text"
      },
      "source": [
        "> \"In my perspective ... science and computer science is a liberal art, it's something everyone should know how to use, at least, and harness in their life. It's not something that should be relegated to 5 percent of the population over in the corner. It's something that everybody should be exposed to and everyone should have mastery of to some extent.\"\n",
        ">\n",
        "> [Steve Jobs (Fresh Air 1996 Interview)](https://www.npr.org/2011/10/06/141115121/steve-jobs-computer-science-is-a-liberal-art)"
      ]
    },
    {
      "cell_type": "markdown",
      "metadata": {
        "id": "gyedhSOpR5Bc",
        "colab_type": "text"
      },
      "source": [
        "## But why Python?"
      ]
    },
    {
      "cell_type": "markdown",
      "metadata": {
        "id": "xniWR84OR5Bd",
        "colab_type": "text"
      },
      "source": [
        "Python is a great language for beginners to work with.  It is a powerful and easy to understand language, that's also quite popular.  Below is a chart from a [2019 stackoverflow survey](https://insights.stackoverflow.com/survey/2019?utm_source=so-owned&utm_medium=blog&utm_campaign=dev-survey-2019#technology-_-programming-scripting-and-markup-languages) showing the most popular programming languages.  There's Python - right near the top."
      ]
    },
    {
      "cell_type": "markdown",
      "metadata": {
        "id": "SE-OA2eUR5Be",
        "colab_type": "text"
      },
      "source": [
        "<img src=\"https://storage.googleapis.com/curriculum-assets/curriculum-assets.nosync/intro-to-coding/python-popularity.png\" width=\"70%\">"
      ]
    },
    {
      "cell_type": "markdown",
      "metadata": {
        "id": "XxGuoH9LR5Bg",
        "colab_type": "text"
      },
      "source": [
        "A large reason why Python is so popular is because of the various uses for it.  We can use it to develop websites, or to perform analysis by data scientists.  "
      ]
    },
    {
      "cell_type": "markdown",
      "metadata": {
        "id": "JeT_vGs1R5Bg",
        "colab_type": "text"
      },
      "source": [
        "### Conclusion"
      ]
    },
    {
      "cell_type": "markdown",
      "metadata": {
        "id": "g-PbsGb5R5Bi",
        "colab_type": "text"
      },
      "source": [
        "Over the next lessons, we'll get up and running in Python.  We'll do so in a way where we not only learn the fundamentals of coding, but also learn how to apply coding to solve real life problems.  Let's get started.  \n",
        "\n",
        "Click the *Next Button*, below."
      ]
    },
    {
      "cell_type": "markdown",
      "metadata": {
        "id": "wdtDDia5R5Bj",
        "colab_type": "text"
      },
      "source": [
        "> **Note**: If you are on a phone, the next buttton may not work.  So click on the Jigsaw Labs icon to go to the table of contents."
      ]
    },
    {
      "cell_type": "markdown",
      "metadata": {
        "id": "0-crB61nR5Bk",
        "colab_type": "text"
      },
      "source": [
        "<right> \n",
        "<a href=\"https://colab.research.google.com/github/jigsawlabs-student/code-intro/blob/master/1-visual-variables.ipynb\">\n",
        "<img src=\"https://storage.cloud.google.com/curriculum-assets/curriculum-assets.nosync/mom-files/pngfuel.com.png\" align=\"right\" style=\"padding-right: 20px\" width=\"10%\">\n",
        "    </a>\n",
        "</right>"
      ]
    },
    {
      "cell_type": "markdown",
      "metadata": {
        "id": "yycwXO-PR5Bm",
        "colab_type": "text"
      },
      "source": [
        "<center>\n",
        "<a href=\"https://www.jigsawlabs.io/free\" style=\"position: center\"><img src=\"https://storage.cloud.google.com/curriculum-assets/curriculum-assets.nosync/mom-files/jigsaw-labs.png\" width=\"15%\" style=\"text-align: center\"></a>\n",
        "</center>"
      ]
    }
  ]
}